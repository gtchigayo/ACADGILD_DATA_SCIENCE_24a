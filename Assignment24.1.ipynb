{
 "cells": [
  {
   "cell_type": "code",
   "execution_count": 4,
   "metadata": {},
   "outputs": [
    {
     "name": "stdout",
     "output_type": "stream",
     "text": [
      "['A', 'C', 'A', 'D', 'G', 'I', 'L', 'D']\n",
      "['x', 'xx', 'xxx', 'xxxx', 'y', 'yy', 'yyy', 'yyyy', 'z', 'zz', 'zzz', 'zzzz']\n",
      "['x', 'y', 'z', 'xx', 'yy', 'zz', 'xxx', 'yyy', 'zzz', 'xxxx', 'yyyy', 'zzzz']\n",
      "[[2], [3], [4], [3], [4], [5], [4], [5], [6]]\n",
      "[[2, 3, 4, 5], [3, 4, 5, 6], [4, 5, 6, 7], [5, 6, 7, 8]]\n",
      "[(1, 1), (2, 1), (3, 1), (1, 2), (2, 2), (3, 2), (1, 3), (2, 3), (3, 3)]\n"
     ]
    }
   ],
   "source": [
    "my_word =\"ACADGILD\"\n",
    "my_list = [letter for letter in my_word]\n",
    "print(my_list)\n",
    "\n",
    "my_items =['x','y','z']\n",
    "new_items=[item*num for item in my_items for num in range(1,5)]\n",
    "print(new_items)\n",
    "\n",
    "my_items =['x','y','z']\n",
    "new_items=[item*num for num in range(1,5) for  item in my_items]\n",
    "print(new_items)\n",
    "\n",
    "my_num = [2,3,4]\n",
    "new_num =[[item+num] for item in my_num for num in range(0,3)]\n",
    "print(new_num)\n",
    "\n",
    "my_num2 = [2,3,4,5]\n",
    "new_num2 =[[item+num for item in my_num2 ]for num in range(0,4)]\n",
    "print(new_num2)\n",
    "\n",
    "my_num3 = [(y,x) for x in [1,2,3] for y in [1,2,3] ]\n",
    "print(my_num3)\n"
   ]
  },
  {
   "cell_type": "code",
   "execution_count": null,
   "metadata": {},
   "outputs": [],
   "source": []
  }
 ],
 "metadata": {
  "kernelspec": {
   "display_name": "Python 3",
   "language": "python",
   "name": "python3"
  },
  "language_info": {
   "codemirror_mode": {
    "name": "ipython",
    "version": 3
   },
   "file_extension": ".py",
   "mimetype": "text/x-python",
   "name": "python",
   "nbconvert_exporter": "python",
   "pygments_lexer": "ipython3",
   "version": "3.7.0"
  }
 },
 "nbformat": 4,
 "nbformat_minor": 2
}
